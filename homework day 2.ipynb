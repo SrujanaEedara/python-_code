{
 "cells": [
  {
   "cell_type": "code",
   "execution_count": 1,
   "id": "dcc212de-4fe3-4640-b456-831ffa0b0793",
   "metadata": {
    "scrolled": true
   },
   "outputs": [
    {
     "name": "stdin",
     "output_type": "stream",
     "text": [
      "enter the value of a: 20\n",
      "enter the value of b: 3\n",
      "enter the operator: +\n"
     ]
    },
    {
     "name": "stdout",
     "output_type": "stream",
     "text": [
      "sum= 23\n"
     ]
    }
   ],
   "source": [
    "#arithmetic operations\n",
    "a=int(input(\"enter the value of a:\"))\n",
    "b=int(input(\"enter the value of b:\"))\n",
    "oper=input(\"enter the operator:\")\n",
    "match oper:\n",
    "           case \"+\":print(\"sum=\",a+b)\n",
    "           case \"-\":print(\"difference=\",a-b)\n",
    "           case \"*\":print(\"product=\",a*b)\n",
    "           case \"/\":print(\"quotient=\",a/b)\n",
    "           case \"%\":print(\"remainder=\",a%b)\n",
    "           case \"^\":print(\"power=\",a ** b)\n",
    "           case _ :print(\"invalid choice\")    "
   ]
  },
  {
   "cell_type": "code",
   "execution_count": 10,
   "id": "681e4823-3339-47d9-b9ea-e669db22dd41",
   "metadata": {},
   "outputs": [
    {
     "name": "stdin",
     "output_type": "stream",
     "text": [
      "enter a character: ##%%%%555\n"
     ]
    },
    {
     "name": "stdout",
     "output_type": "stream",
     "text": [
      "character type= special character\n"
     ]
    }
   ],
   "source": [
    "#type of input\n",
    "def identify_character(char):\n",
    "    if char.islower():\n",
    "        return \"lower case\"\n",
    "    elif char.isupper():\n",
    "        return \"upper case\"\n",
    "    elif char.isdigit():\n",
    "        return \"numeric\"\n",
    "    else:\n",
    "        return \"special character\"\n",
    "input=input(\"enter a character:\")\n",
    "print(\"character type=\",identify_character(input))      "
   ]
  },
  {
   "cell_type": "code",
   "execution_count": 2,
   "id": "e1b206f5-f29c-44f6-b451-a425917d68eb",
   "metadata": {},
   "outputs": [
    {
     "name": "stdin",
     "output_type": "stream",
     "text": [
      "enter your number: 121\n"
     ]
    },
    {
     "name": "stdout",
     "output_type": "stream",
     "text": [
      "it is a palindrome\n"
     ]
    }
   ],
   "source": [
    "#palindrome or not\n",
    "n=int(input(\"enter your number:\"))\n",
    "m=n\n",
    "rev=0\n",
    "while n>0:\n",
    "          rem=n%10\n",
    "          rev=rev*10+rem\n",
    "          n=n//10\n",
    "if m==rev:    \n",
    "      print(\"it is a palindrome\")\n",
    "else:\n",
    "     print(\"it is not a palindrome\")"
   ]
  },
  {
   "cell_type": "code",
   "execution_count": 3,
   "id": "987ee149-e4e5-453b-886f-897ca447210b",
   "metadata": {},
   "outputs": [
    {
     "name": "stdin",
     "output_type": "stream",
     "text": [
      "enter a number: 123456\n"
     ]
    },
    {
     "name": "stdout",
     "output_type": "stream",
     "text": [
      "reversed digits: 654321\n"
     ]
    }
   ],
   "source": [
    "#reversing a given number\n",
    "def reverse_digits(number):\n",
    "    return int(str(number)[::-1])\n",
    "number=int(input(\"enter a number:\"))\n",
    "print(\"reversed digits:\",reverse_digits(number))    "
   ]
  },
  {
   "cell_type": "code",
   "execution_count": 4,
   "id": "40fa6af5-2aa2-4bcc-b041-8807f2f3a816",
   "metadata": {},
   "outputs": [
    {
     "name": "stdin",
     "output_type": "stream",
     "text": [
      "enter the number: 19\n"
     ]
    },
    {
     "name": "stdout",
     "output_type": "stream",
     "text": [
      "19 is prime\n"
     ]
    }
   ],
   "source": [
    "#prime number or not\n",
    "num=int(input(\"enter the number:\"))\n",
    "for i in range(2,num):\n",
    "    if(num%i)==0:\n",
    "        print(num,\"is not prime\")\n",
    "        break\n",
    "else:\n",
    "     print(num,\"is prime\")"
   ]
  },
  {
   "cell_type": "code",
   "execution_count": 5,
   "id": "95ebad91-7470-4460-8726-d2274b38d33a",
   "metadata": {},
   "outputs": [
    {
     "name": "stdin",
     "output_type": "stream",
     "text": [
      "enter your number: 3\n"
     ]
    },
    {
     "name": "stdout",
     "output_type": "stream",
     "text": [
      "factorial is= 1\n",
      "factorial is= 2\n",
      "factorial is= 6\n"
     ]
    }
   ],
   "source": [
    "#factorial\n",
    "num=int(input(\"enter your number:\"))\n",
    "fact=1\n",
    "if num<0:\n",
    "    print(\"enter a positive number\")\n",
    "elif num==0:\n",
    "    print(\"factorial of 0 is 1\")\n",
    "else:\n",
    "    for i in range(1,num+1):\n",
    "                     fact=fact*i\n",
    "                     print(\"factorial is=\",fact)       "
   ]
  },
  {
   "cell_type": "code",
   "execution_count": 9,
   "id": "0351776f-4817-48cc-b6c9-39f68cb6fbdd",
   "metadata": {},
   "outputs": [
    {
     "name": "stdout",
     "output_type": "stream",
     "text": [
      "sum of the list is: 1\n",
      "sum of the list is: 3\n",
      "sum of the list is: 6\n",
      "sum of the list is: 10\n",
      "sum of the list is: 15\n",
      "sum of the list is: 21\n",
      "sum of the list is: 28\n",
      "unable to add string\n"
     ]
    }
   ],
   "source": [
    "#sum of all the elements in the list\n",
    "list=[1,2,3,4,5,6,7,\"srujana\"]\n",
    "sum=0\n",
    "try:\n",
    "    for i in list:\n",
    "        sum=sum+i\n",
    "        print(\"sum of the list is:\",sum)  \n",
    "except:\n",
    "     print(\"unable to add string\")"
   ]
  },
  {
   "cell_type": "code",
   "execution_count": 1,
   "id": "d07b5e91-8ed6-4419-99fc-e0913c4e7114",
   "metadata": {},
   "outputs": [
    {
     "name": "stdout",
     "output_type": "stream",
     "text": [
      "7.933333333333334\n",
      "no error\n",
      "code executed!!\n"
     ]
    }
   ],
   "source": [
    "#average of grades\n",
    "grades={8.4:\"srujana\",7.5:\"usha\",7.9:\"mona\"}\n",
    "try:\n",
    "    total=sum(grades)\n",
    "    num=len(grades)\n",
    "    average=total/num\n",
    "    print(average)\n",
    "except ZeroDivisionError:\n",
    "    print(\"dictionary is empty!!\")\n",
    "else:\n",
    "    print(\"no error\")\n",
    "finally:\n",
    "    print(\"code executed!!\")"
   ]
  },
  {
   "cell_type": "code",
   "execution_count": null,
   "id": "0e55956d-a2bb-4492-944d-1516c7bf4602",
   "metadata": {},
   "outputs": [],
   "source": []
  },
  {
   "cell_type": "code",
   "execution_count": null,
   "id": "c391309f-80a0-4dc1-8eec-3c880a6ca126",
   "metadata": {},
   "outputs": [],
   "source": []
  },
  {
   "cell_type": "code",
   "execution_count": null,
   "id": "994969ca-4028-4370-99db-72892d9aa5ba",
   "metadata": {},
   "outputs": [],
   "source": []
  }
 ],
 "metadata": {
  "kernelspec": {
   "display_name": "Python 3 (ipykernel)",
   "language": "python",
   "name": "python3"
  },
  "language_info": {
   "codemirror_mode": {
    "name": "ipython",
    "version": 3
   },
   "file_extension": ".py",
   "mimetype": "text/x-python",
   "name": "python",
   "nbconvert_exporter": "python",
   "pygments_lexer": "ipython3",
   "version": "3.12.3"
  }
 },
 "nbformat": 4,
 "nbformat_minor": 5
}
