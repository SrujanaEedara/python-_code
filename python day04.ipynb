{
 "cells": [
  {
   "cell_type": "code",
   "execution_count": 3,
   "id": "b20de835-9a7f-4fbe-92a6-072627c432f0",
   "metadata": {},
   "outputs": [
    {
     "name": "stdin",
     "output_type": "stream",
     "text": [
      " 1234\n"
     ]
    },
    {
     "name": "stdout",
     "output_type": "stream",
     "text": [
      "a is not apalindrome\n"
     ]
    }
   ],
   "source": [
    "#palindrome\n",
    "a=input()\n",
    "flag=0\n",
    "for i in range(0,int(len(a)/2)):\n",
    "    if a[i]!=a[(i+1)*-1]:\n",
    "        flag=1\n",
    "        break\n",
    "if flag:        \n",
    "        print(\"a is not apalindrome\")\n",
    "else:\n",
    "    print(\"palindrome\")"
   ]
  },
  {
   "cell_type": "code",
   "execution_count": 25,
   "id": "1f9e4efd-f733-43b3-9a58-5d54e09daa7d",
   "metadata": {},
   "outputs": [
    {
     "name": "stdin",
     "output_type": "stream",
     "text": [
      "enter the number: 9\n"
     ]
    },
    {
     "name": "stdout",
     "output_type": "stream",
     "text": [
      "not prime\n"
     ]
    }
   ],
   "source": [
    "#prime number\n",
    "flag=0\n",
    "num=int(input(\"enter the number:\"))\n",
    "for x in range(2,int(num/2)):\n",
    "    if num%x==0:  \n",
    "        flag=1\n",
    "        break\n",
    "if flag:\n",
    "    print(\"not prime\")\n",
    "    \n",
    "else:\n",
    "      print(\"it is a prime number\")\n",
    "     \n",
    "    "
   ]
  },
  {
   "cell_type": "code",
   "execution_count": 29,
   "id": "21e704f1-0173-40cc-9be0-4b949d854e10",
   "metadata": {},
   "outputs": [
    {
     "ename": "SyntaxError",
     "evalue": "invalid syntax (31830820.py, line 1)",
     "output_type": "error",
     "traceback": [
      "\u001b[1;36m  Cell \u001b[1;32mIn[29], line 1\u001b[1;36m\u001b[0m\n\u001b[1;33m    import os:\u001b[0m\n\u001b[1;37m             ^\u001b[0m\n\u001b[1;31mSyntaxError\u001b[0m\u001b[1;31m:\u001b[0m invalid syntax\n"
     ]
    }
   ],
   "source": [
    "\n",
    "import os\n",
    "\n",
    "if__name__ == '__main__':\n",
    "filename=\"example.txt\"\n",
    "new_filename=\"new_example.txt\"\n",
    "\n",
    "create_file(filename)\n",
    "read_file(filename)\n",
    "append_file(filename,\"this is some additional text.\\n\")\n",
    "read_file(filename)\n",
    "rename_file(filename,new_filename)\n",
    "read_file(new_filename)\n",
    "#delete_file(new_filename)\n"
   ]
  },
  {
   "cell_type": "code",
   "execution_count": 41,
   "id": "fa5c33b0-e9ac-4819-a92b-36d395e7bc5e",
   "metadata": {},
   "outputs": [],
   "source": [
    "import os\n",
    "with open(\"examplefile.txt\",'w') as f:\n",
    "    f.write(\"this is the first file\")\n"
   ]
  },
  {
   "cell_type": "code",
   "execution_count": null,
   "id": "cd4a8c1f-bb61-41e3-815d-1e085bc71400",
   "metadata": {},
   "outputs": [],
   "source": []
  },
  {
   "cell_type": "code",
   "execution_count": null,
   "id": "4b7a6ef4-3c2b-43dd-969b-096ef7cb24a4",
   "metadata": {},
   "outputs": [],
   "source": []
  }
 ],
 "metadata": {
  "kernelspec": {
   "display_name": "Python 3 (ipykernel)",
   "language": "python",
   "name": "python3"
  },
  "language_info": {
   "codemirror_mode": {
    "name": "ipython",
    "version": 3
   },
   "file_extension": ".py",
   "mimetype": "text/x-python",
   "name": "python",
   "nbconvert_exporter": "python",
   "pygments_lexer": "ipython3",
   "version": "3.12.3"
  }
 },
 "nbformat": 4,
 "nbformat_minor": 5
}
