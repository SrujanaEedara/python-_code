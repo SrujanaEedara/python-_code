{
 "cells": [
  {
   "cell_type": "code",
   "execution_count": 1,
   "id": "85a3d3b5-42d7-4b7c-b31c-6bcf8d86b36b",
   "metadata": {},
   "outputs": [
    {
     "name": "stdout",
     "output_type": "stream",
     "text": [
      "[10, 20, 30.65, 'srujana']\n",
      "j\n",
      "<class 'list'>\n",
      "10\n",
      "20\n",
      "30.65\n",
      "srujana\n"
     ]
    }
   ],
   "source": [
    "a=[10,20,30.65,\"srujana\"]\n",
    "print(a)\n",
    "print(a[3][3])\n",
    "print(type(a))\n",
    "for i in range(0,4):\n",
    "              print(a[i])"
   ]
  },
  {
   "cell_type": "code",
   "execution_count": 2,
   "id": "9308a4e4-7a79-4a41-a67d-1b7e91b85f93",
   "metadata": {},
   "outputs": [
    {
     "name": "stdout",
     "output_type": "stream",
     "text": [
      "[1, 2, 3.67, 63]\n",
      "[1, 2, 3.67, 63, 34]\n",
      "[63, 3.67, 2, 1]\n",
      "[63, 3.67, 2, 1, 1, 2, 3.67, 63, 34]\n"
     ]
    }
   ],
   "source": [
    "a=[1,2,3.67,63]\n",
    "b=a.copy()\n",
    "print(b)\n",
    "a.append(34)\n",
    "print(a)\n",
    "b.sort(reverse=True)\n",
    "print(b)\n",
    "b.extend(a)\n",
    "print(b)\n",
    "\n",
    "\n",
    "\n",
    "\n"
   ]
  },
  {
   "cell_type": "code",
   "execution_count": 3,
   "id": "3a2b4c44-45a4-4f1f-a0c0-b5219d2dcb39",
   "metadata": {},
   "outputs": [
    {
     "name": "stdout",
     "output_type": "stream",
     "text": [
      "10\n",
      "20\n",
      "30\n",
      "40\n",
      "50\n"
     ]
    }
   ],
   "source": [
    "#for each loop\n",
    "a=[10,20,30,40,50]\n",
    "for x in a:\n",
    "       print(x)"
   ]
  },
  {
   "cell_type": "code",
   "execution_count": 21,
   "id": "42b0a27a-aabe-41fe-977d-857cc95f68c2",
   "metadata": {},
   "outputs": [
    {
     "name": "stdin",
     "output_type": "stream",
     "text": [
      "enter the size: 3\n",
      " 1\n",
      " 2\n",
      " 3\n"
     ]
    },
    {
     "name": "stdout",
     "output_type": "stream",
     "text": [
      "['1', '2', '3']\n"
     ]
    }
   ],
   "source": [
    "#### TAKING THE ELEMENTS OF THE LIST FROM THE USERR\n",
    "size=int(input(\"enter the size:\"))\n",
    "a=[]\n",
    "for x in range(0,size):\n",
    "                x =input()\n",
    "                a.append(x) \n",
    "print(a)"
   ]
  },
  {
   "cell_type": "code",
   "execution_count": 2,
   "id": "f42b3a23-a16f-48ce-83ee-41c2c778771f",
   "metadata": {},
   "outputs": [
    {
     "name": "stdin",
     "output_type": "stream",
     "text": [
      "enter the eLements: 10 20 30 40 50\n"
     ]
    },
    {
     "name": "stdout",
     "output_type": "stream",
     "text": [
      "[10, 20, 30, 40, 50]\n"
     ]
    }
   ],
   "source": [
    "##ANOTHER WAY ## size can be exteded\n",
    "L=[int(item) for item in (input(\"enter the eLements:\").split())]\n",
    "print(L)"
   ]
  },
  {
   "cell_type": "code",
   "execution_count": 2,
   "id": "97487b0c-6b21-4c13-ac36-0139e464cd7c",
   "metadata": {},
   "outputs": [
    {
     "name": "stdout",
     "output_type": "stream",
     "text": [
      "[10, 20, 30, 'sru']\n",
      "[10, 20, 30, 'sru']\n"
     ]
    }
   ],
   "source": [
    "##SAME CAN BE DONE WITH TUPLES BUT WE CANNOT UPDATE OR APPEND(CANGAES CANNOT BE DONE ONCE IT IS CREATED)\n",
    "##IF U NEED TO DO CHANGES U NEED TO FRST CONVERT IT INTO A LIST AND PERFORM THE CHANGES\n",
    "a=[10,20,30,\"sru\"]\n",
    "print(a)\n",
    "b=list(a)\n",
    "##perform the required updations\n",
    "print(b)\n",
    "#convert back into a tuple"
   ]
  },
  {
   "cell_type": "code",
   "execution_count": 7,
   "id": "8219ea01-abcf-42f9-a551-c93de9763f2b",
   "metadata": {},
   "outputs": [
    {
     "name": "stdout",
     "output_type": "stream",
     "text": [
      "sru\n",
      "30\n",
      "20\n",
      "10\n"
     ]
    }
   ],
   "source": [
    "#reversing a tuple without reverse function\n",
    "a=(10,20,30,\"sru\")\n",
    "for x in range(-1,-1*(len(a)+1),-1):\n",
    "    print(a[x])\n",
    "\n"
   ]
  },
  {
   "cell_type": "code",
   "execution_count": 8,
   "id": "927dfd6c-ac25-4cc8-935b-a49957077b70",
   "metadata": {},
   "outputs": [
    {
     "name": "stdout",
     "output_type": "stream",
     "text": [
      "sru\n",
      "30\n",
      "20\n",
      "10\n"
     ]
    }
   ],
   "source": [
    "#another way of reversing  a tuple without using functions\n",
    "a=(10,20,30,\"sru\")\n",
    "for x in range(0,len(a)):\n",
    "    print(a[-1*(x+1)])"
   ]
  },
  {
   "cell_type": "code",
   "execution_count": 20,
   "id": "65e44688-9226-4cba-8b87-535ca9418911",
   "metadata": {},
   "outputs": [
    {
     "name": "stdout",
     "output_type": "stream",
     "text": [
      "{1: 'srujana', 2: 'eedara', 3: 'srujana'}\n",
      "eedara\n",
      "dict_keys([1, 2, 3])\n",
      "dict_values(['srujana', 'eedara', 'srujana'])\n",
      "dict_items([(1, 'srujana'), (2, 'eedara'), (3, 'srujana')])\n",
      "eedara\n"
     ]
    }
   ],
   "source": [
    "###DICTIONARY\n",
    "#key and values\n",
    "#key values pair\n",
    "D={1:\"srujana\",2:\"eedara\",3:\"srujana\"}\n",
    "print(D)\n",
    "##IF U ADD ANY VALUE INTO ALREADY EXISTING KEY THEN IT WILL OVER WRITE IT\n",
    "print(D[2])  ## TO PRINT A VALUE USING ITS KEY\n",
    "##TO GET THE KEY OF THE SPECIFIED VALUE\n",
    "print(D.keys())\n",
    "print(D.values())\n",
    "print(D.items())\n",
    "print(D.get(2)) ## to check whether the required key exist or not"
   ]
  },
  {
   "cell_type": "code",
   "execution_count": 3,
   "id": "dd01e83d-970b-4ba8-96db-299e141d9b70",
   "metadata": {},
   "outputs": [
    {
     "name": "stdin",
     "output_type": "stream",
     "text": [
      "enter the elements: 10 20 30 40 50 60 70 80 90 100\n"
     ]
    },
    {
     "name": "stdout",
     "output_type": "stream",
     "text": [
      "[10, 20, 30, 40, 50, 60, 70, 80, 90, 100]\n"
     ]
    }
   ],
   "source": [
    "# ANOTHER WAY\n",
    "L=[int(item) for item in (input(\"enter the elements:\").split())]\n",
    "print(L)"
   ]
  },
  {
   "cell_type": "code",
   "execution_count": 1,
   "id": "3a7c0d04-a574-449a-884b-4c333a7662d4",
   "metadata": {},
   "outputs": [
    {
     "name": "stdin",
     "output_type": "stream",
     "text": [
      "enter the index: 11\n"
     ]
    },
    {
     "name": "stdout",
     "output_type": "stream",
     "text": [
      "index not found\n"
     ]
    }
   ],
   "source": [
    "##to search for the user entered index if present print the value of thatindex if not present print not found\n",
    "a=[1,2,3,4,5,6,7,8,9]\n",
    "i=int(input(\"enter the index:\"))\n",
    "try:\n",
    "    print(a[i])\n",
    "except:\n",
    "    print(\"index not found\")\n",
    "\n",
    "\n",
    "\n",
    "\n",
    "\n",
    "\n",
    "\n",
    "\n",
    "\n"
   ]
  },
  {
   "cell_type": "code",
   "execution_count": 1,
   "id": "933728c9-34a7-4711-9672-e7197d07af86",
   "metadata": {},
   "outputs": [
    {
     "name": "stdout",
     "output_type": "stream",
     "text": [
      "sum of the list is: 28\n"
     ]
    }
   ],
   "source": [
    "list=[1,2,3,4,5,6,7]\n",
    "sum=0\n",
    "for i in list:\n",
    "    sum=sum+i\n",
    "print(\"sum of the list is:\",sum)    "
   ]
  },
  {
   "cell_type": "code",
   "execution_count": null,
   "id": "dd9dba3b-4ace-4658-bd40-31c578202b1d",
   "metadata": {},
   "outputs": [],
   "source": []
  },
  {
   "cell_type": "code",
   "execution_count": null,
   "id": "2dc0a50c-95c1-4b6d-9d18-8b6ef5b3b0c1",
   "metadata": {},
   "outputs": [],
   "source": []
  }
 ],
 "metadata": {
  "kernelspec": {
   "display_name": "Python 3 (ipykernel)",
   "language": "python",
   "name": "python3"
  },
  "language_info": {
   "codemirror_mode": {
    "name": "ipython",
    "version": 3
   },
   "file_extension": ".py",
   "mimetype": "text/x-python",
   "name": "python",
   "nbconvert_exporter": "python",
   "pygments_lexer": "ipython3",
   "version": "3.12.3"
  }
 },
 "nbformat": 4,
 "nbformat_minor": 5
}
