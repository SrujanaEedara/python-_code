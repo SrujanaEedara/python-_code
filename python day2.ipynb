{
 "cells": [
  {
   "cell_type": "code",
   "execution_count": null,
   "id": "4ef0f231-a78b-4e42-9fbc-0f75543c8355",
   "metadata": {},
   "outputs": [],
   "source": [
    "name=input(\"enter your name:\")\n",
    "age=int(input(\"enter your age:\"))\n",
    "if age>=18:\n",
    "      print(name)\n",
    "      print(\"you are eligible\")\n",
    "else:\n",
    "      print(name)\n",
    "      print(\"not eligible\")\n"
   ]
  },
  {
   "cell_type": "code",
   "execution_count": null,
   "id": "fb1c5881-07da-44a8-b39a-1a8e01473e9e",
   "metadata": {},
   "outputs": [],
   "source": [
    "a=int(input(\"enter the value of a:\"))\n",
    "b=int(input(\"enter the value of b:\"))\n",
    "if a>b:\n",
    "      \n",
    "      print(a) \n",
    "      print(\"is greater\")\n",
    "else:\n",
    "    \n",
    "      print(b)\n",
    "      print(\"is greater\")"
   ]
  },
  {
   "cell_type": "code",
   "execution_count": null,
   "id": "9a392b3c-9d92-4f75-b569-51861f416a6d",
   "metadata": {},
   "outputs": [],
   "source": [
    "a=int(input())\n",
    "b=int(input())\n",
    "c=int(input())\n",
    "if a>b:\n",
    "    if a>c:\n",
    "        print(a ,\"is greater\")\n",
    "    else:\n",
    "         print(c,\"is greater\")\n",
    "else:\n",
    "    if b>c:\n",
    "         print(b,\"is greater\")\n",
    "    else:\n",
    "         print(c,\"is greater\")"
   ]
  },
  {
   "cell_type": "code",
   "execution_count": null,
   "id": "da62ad90-160c-4293-bcc1-e2381f8a8a82",
   "metadata": {},
   "outputs": [],
   "source": [
    "marks=int(input(\"enter the marks:\"))\n",
    "if marks>=90 and marks<=100:\n",
    "                print(\"grade = A+\")\n",
    "else:              \n",
    "    if marks>=80 and marks<=90:\n",
    "          print(\"grade = A\")\n",
    "    else:\n",
    "          if marks>=70 and marks<=80:\n",
    "             print(\"grade = B+\")\n",
    "          else:\n",
    "                if marks>=60 and marks<=70:\n",
    "                  print(\"grade = B\")\n",
    "                else:\n",
    "                     if marks>=50 and marks<=60:\n",
    "                        print(\"grade = C\")\n",
    "                     else:\n",
    "                          if marks>=40 and marks<=50:\n",
    "                            print(\"grade =D\")\n",
    "                          else:\n",
    "                              if marks>=30 and marks<=40:\n",
    "                                print(\"grade = E\")\n",
    "                              else:\n",
    "                                  if marks>=0 and marks<=30:\n",
    "                                    print(\"grade = F\")\n",
    "                                  else:\n",
    "                                      print(\"invalid marks\")\n",
    "                             \n",
    "                                 \n",
    "\n",
    "          \n",
    "          \n",
    "                "
   ]
  },
  {
   "cell_type": "code",
   "execution_count": null,
   "id": "1dc662b5-d4dd-4809-bacc-0dd8fa069d46",
   "metadata": {},
   "outputs": [],
   "source": [
    "marks=int(input(\"enter the marks:\"))\n",
    "match marks:\n",
    "               case 1: if marks>=90 and marks<=100:\n",
    "                       print(\"grade = A+\")\n",
    "               case 2: if marks>=80 and marks<=90:\n",
    "                       print(\"grade = A\")\n",
    "               case 3: if marks>=70 and marks<=80:\n",
    "                       print(\"grade = B+\")\n",
    "               case 4: if marks>=60 and marks<=70:\n",
    "                       print(\"grade = B\")\n",
    "               case 5: if marks>=50 and marks<=60:\n",
    "                       print(\"grade = C\")\n",
    "               case 6: if marks>=40 and marks<=50:\n",
    "                       print(\"grade =D\")\n",
    "               case 7: if marks>=30 and marks<=40:\n",
    "                       print(\"grade = E\")\n",
    "               case 8: if marks>=0 and marks<=30:\n",
    "                       print(\"grade = F\")\n",
    "               case _: print(\"invalid marks\")\n",
    "                             \n",
    "                                 \n",
    "\n",
    "          \n",
    "          \n",
    "                "
   ]
  },
  {
   "cell_type": "code",
   "execution_count": 3,
   "id": "60ae76ad-6c14-4627-a559-a890d4d0fe62",
   "metadata": {},
   "outputs": [
    {
     "name": "stdin",
     "output_type": "stream",
     "text": [
      "enter the number: 4\n"
     ]
    },
    {
     "name": "stdout",
     "output_type": "stream",
     "text": [
      "wednesday\n"
     ]
    }
   ],
   "source": [
    "days=int(input(\"enter the number:\"))\n",
    "match days:\n",
    "           case 1:print(\"sunday\")\n",
    "           case 2:print(\"monday\")\n",
    "           case 3:print(\"tuesday\")\n",
    "           case 4:print(\"wednesday\")\n",
    "           case 5:print(\"thursday\")\n",
    "           case 6:print(\"friday\")\n",
    "           case 7:print(\"saturday\")\n",
    "           case _:print(\"invalid\")\n"
   ]
  },
  {
   "cell_type": "code",
   "execution_count": 1,
   "id": "a9f4a5be-26f6-4a49-af5b-1c8b2ca138c6",
   "metadata": {},
   "outputs": [
    {
     "name": "stdout",
     "output_type": "stream",
     "text": [
      "0\n",
      "1\n",
      "2\n",
      "3\n",
      "4\n",
      "5\n",
      "6\n",
      "7\n",
      "8\n",
      "9\n",
      "10\n",
      "11\n",
      "12\n",
      "13\n",
      "14\n",
      "15\n",
      "16\n",
      "17\n",
      "18\n",
      "19\n"
     ]
    }
   ],
   "source": [
    "x=0\n",
    "while x<20:\n",
    "    print(x)\n",
    "    x=x+1\n"
   ]
  },
  {
   "cell_type": "code",
   "execution_count": 2,
   "id": "cb4a4fdf-f1fa-4a3b-8f6c-c4609d4dd29e",
   "metadata": {
    "scrolled": true
   },
   "outputs": [
    {
     "name": "stdout",
     "output_type": "stream",
     "text": [
      "0\n",
      "1\n",
      "2\n",
      "3\n",
      "4\n",
      "5\n",
      "6\n",
      "7\n",
      "8\n",
      "9\n",
      "10\n"
     ]
    }
   ],
   "source": [
    "for z in range(0,11):\n",
    "     print(z)"
   ]
  },
  {
   "cell_type": "code",
   "execution_count": 22,
   "id": "2ec75443-fa67-4021-b604-12ea7f0d3fb9",
   "metadata": {},
   "outputs": [
    {
     "name": "stdout",
     "output_type": "stream",
     "text": [
      "* \n",
      "* * \n",
      "* * * \n",
      "* * * * \n",
      "* * * * * \n",
      "* * * * * * \n",
      "* * * * * * * \n",
      "* * * * * * * * \n",
      "* * * * * * * * * \n",
      "* * * * * * * * * * \n"
     ]
    }
   ],
   "source": [
    "for y in range(0,10):\n",
    "      for x in range(0,y+1):\n",
    "          print(\"*\",end=\" \")\n",
    "      print()    "
   ]
  },
  {
   "cell_type": "code",
   "execution_count": 21,
   "id": "0419ca14-aa4a-42eb-8988-e8874e021cd9",
   "metadata": {},
   "outputs": [
    {
     "name": "stdin",
     "output_type": "stream",
     "text": [
      "enter the length of the series: 10\n"
     ]
    },
    {
     "name": "stdout",
     "output_type": "stream",
     "text": [
      "0 1 1 2 3 5 8 13 21 34 "
     ]
    }
   ],
   "source": [
    "\n",
    "a=0\n",
    "b=1\n",
    "n=int(input(\"enter the length of the series:\"))\n",
    "print(a,b,end=\" \")\n",
    "for x in range(0,n-2):\n",
    "             c=a+b\n",
    "             print(c,end=\" \")\n",
    "             a=b\n",
    "             b=c\n",
    "             "
   ]
  },
  {
   "cell_type": "code",
   "execution_count": null,
   "id": "1e0ce881-b6b2-4260-8bd0-a9b262bf294e",
   "metadata": {},
   "outputs": [],
   "source": []
  }
 ],
 "metadata": {
  "kernelspec": {
   "display_name": "Python 3 (ipykernel)",
   "language": "python",
   "name": "python3"
  },
  "language_info": {
   "codemirror_mode": {
    "name": "ipython",
    "version": 3
   },
   "file_extension": ".py",
   "mimetype": "text/x-python",
   "name": "python",
   "nbconvert_exporter": "python",
   "pygments_lexer": "ipython3",
   "version": "3.12.3"
  }
 },
 "nbformat": 4,
 "nbformat_minor": 5
}
