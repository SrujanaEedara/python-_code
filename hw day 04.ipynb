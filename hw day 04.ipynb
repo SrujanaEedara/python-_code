{
 "cells": [
  {
   "cell_type": "code",
   "execution_count": 1,
   "id": "7ce9d26e-2d34-4b91-b870-c6dd91233799",
   "metadata": {},
   "outputs": [
    {
     "name": "stdin",
     "output_type": "stream",
     "text": [
      "enter the temperature in celsius: 25\n"
     ]
    },
    {
     "name": "stdout",
     "output_type": "stream",
     "text": [
      "temperature in fahrenheit is: 77.0\n"
     ]
    }
   ],
   "source": [
    "#DEGREES TO FAHRENHEIT\n",
    "celsius=int(input(\"enter the temperature in celsius:\"))\n",
    "F=(1.8*celsius)+32\n",
    "print(\"temperature in fahrenheit is:\",F)\n"
   ]
  },
  {
   "cell_type": "code",
   "execution_count": 26,
   "id": "438e0f13-a1e9-4050-b9aa-f1bc2c49261b",
   "metadata": {},
   "outputs": [
    {
     "name": "stdout",
     "output_type": "stream",
     "text": [
      "the second largest number is: 78\n"
     ]
    }
   ],
   "source": [
    "#second largest element in the list\n",
    "list_a=[34,78,97,46,97,44,53]\n",
    "list_b=list(set(list_a))\n",
    "list_b.sort()\n",
    "print(\"the second largest number is:\",list_b[-2])\n",
    "\n"
   ]
  },
  {
   "cell_type": "code",
   "execution_count": 33,
   "id": "a45bccb9-7282-4b06-a786-91f7dc409d20",
   "metadata": {},
   "outputs": [
    {
     "name": "stdout",
     "output_type": "stream",
     "text": [
      "sum of even numbers= 10\n"
     ]
    }
   ],
   "source": [
    "#sum of even numbers in a list\n",
    "list=[1,5,8,3,2,9]\n",
    "sum=0\n",
    "for i in list:\n",
    "    if i%2==0:\n",
    "        sum=sum+i\n",
    "print(\"sum of even numbers=\",sum)\n",
    "        \n",
    "        "
   ]
  },
  {
   "cell_type": "code",
   "execution_count": 22,
   "id": "b1248092-0f6a-451f-ad45-ede6ff09fa3f",
   "metadata": {},
   "outputs": [
    {
     "name": "stdin",
     "output_type": "stream",
     "text": [
      "enter the string: srujana\n"
     ]
    },
    {
     "name": "stdout",
     "output_type": "stream",
     "text": [
      "number of vowels= 3\n"
     ]
    }
   ],
   "source": [
    "#number of vowels in a string\n",
    "str=input(\"enter the string:\")\n",
    "count=0\n",
    "for i in range(0,len(str)):\n",
    "    ch=str[i]\n",
    "    if(ch=='a'or ch=='e'or ch=='i'or ch=='o'or ch=='u'):\n",
    "        count=count+1\n",
    "if count==0:\n",
    "    print(\"no vowels found\")\n",
    "else:\n",
    "    print(\"number of vowels=\",count)   \n",
    "    \n",
    "     \n"
   ]
  },
  {
   "cell_type": "code",
   "execution_count": 5,
   "id": "2bfa0c48-c6b1-434b-b27d-3245c75920aa",
   "metadata": {},
   "outputs": [
    {
     "name": "stdin",
     "output_type": "stream",
     "text": [
      "enter the sentence: my name is srujana\n"
     ]
    },
    {
     "name": "stdout",
     "output_type": "stream",
     "text": [
      "reversed string=  a n a j u r s   s i   e m a n   y m \n"
     ]
    }
   ],
   "source": [
    "#reversing the words\n",
    "string_1=input(\"enter the sentence:\")\n",
    "string_2=\" \"\n",
    "reversed_string=string_1[::-1]\n",
    "for i in reversed_string:\n",
    "    string_2=string_2+i+\" \"\n",
    "print(\"reversed string=\",string_2)    \n"
   ]
  },
  {
   "cell_type": "code",
   "execution_count": 4,
   "id": "bd013f12-3d0a-45e4-9090-b38529acbb32",
   "metadata": {},
   "outputs": [
    {
     "name": "stdout",
     "output_type": "stream",
     "text": [
      "the count of 1 is: 2\n",
      "the count of 3 is: 2\n",
      "the count of 8 is: 1\n",
      "the count of 3 is: 2\n",
      "the count of 9 is: 1\n",
      "the count of 1 is: 2\n",
      "the count of 0 is: 1\n"
     ]
    }
   ],
   "source": [
    "#occurence of an element in a list\n",
    "list=[1,3,8,3,9,1,0]\n",
    "for i in list:\n",
    "    count=list.count(i)\n",
    "    print(\"the count of\",i,\"is:\",count)\n"
   ]
  },
  {
   "cell_type": "code",
   "execution_count": null,
   "id": "cbfc798f-b258-40c5-b207-09607129d5bc",
   "metadata": {},
   "outputs": [],
   "source": []
  }
 ],
 "metadata": {
  "kernelspec": {
   "display_name": "Python 3 (ipykernel)",
   "language": "python",
   "name": "python3"
  },
  "language_info": {
   "codemirror_mode": {
    "name": "ipython",
    "version": 3
   },
   "file_extension": ".py",
   "mimetype": "text/x-python",
   "name": "python",
   "nbconvert_exporter": "python",
   "pygments_lexer": "ipython3",
   "version": "3.12.3"
  }
 },
 "nbformat": 4,
 "nbformat_minor": 5
}
