{
 "cells": [
  {
   "cell_type": "code",
   "execution_count": 10,
   "id": "5e1e2c8b-4b03-4cd1-9e0d-050be3c19d30",
   "metadata": {},
   "outputs": [
    {
     "name": "stdin",
     "output_type": "stream",
     "text": [
      "enter your string: i am srujana\n"
     ]
    },
    {
     "name": "stdout",
     "output_type": "stream",
     "text": [
      "a n a j u r s   m a   i "
     ]
    }
   ],
   "source": [
    "                                         #REVERSING USING STACK\n",
    "a=input(\"enter your string:\")\n",
    "s=[]\n",
    "for i in a:\n",
    "    s.append(i)\n",
    "while len(s)>0:\n",
    "   print(s.pop(),end=\" \")\n",
    "    \n",
    "  \n"
   ]
  },
  {
   "cell_type": "code",
   "execution_count": 11,
   "id": "cd5c581e-59f7-41df-9454-125e87ed7358",
   "metadata": {},
   "outputs": [
    {
     "name": "stdin",
     "output_type": "stream",
     "text": [
      "enter your string: i am srujana\n"
     ]
    },
    {
     "name": "stdout",
     "output_type": "stream",
     "text": [
      "srujana am i "
     ]
    }
   ],
   "source": [
    "                                           #REVERSING BY WORD USING STACK \n",
    "a=input(\"enter your string:\")\n",
    "s=[]\n",
    "for i in a.split():\n",
    "    s.append(i)\n",
    "while len(s)>0:\n",
    "    print(s.pop(),end=\" \")\n",
    "    \n",
    "    \n"
   ]
  },
  {
   "cell_type": "code",
   "execution_count": null,
   "id": "50c6f8e1-fa36-448d-8d4d-1a839574be6c",
   "metadata": {},
   "outputs": [],
   "source": []
  }
 ],
 "metadata": {
  "kernelspec": {
   "display_name": "Python 3 (ipykernel)",
   "language": "python",
   "name": "python3"
  },
  "language_info": {
   "codemirror_mode": {
    "name": "ipython",
    "version": 3
   },
   "file_extension": ".py",
   "mimetype": "text/x-python",
   "name": "python",
   "nbconvert_exporter": "python",
   "pygments_lexer": "ipython3",
   "version": "3.12.3"
  }
 },
 "nbformat": 4,
 "nbformat_minor": 5
}
