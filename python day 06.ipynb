{
 "cells": [
  {
   "cell_type": "code",
   "execution_count": 14,
   "id": "ca7c8785-f994-413f-8c14-e7beed631185",
   "metadata": {},
   "outputs": [
    {
     "name": "stdout",
     "output_type": "stream",
     "text": [
      "car is having the features: type= sport \n",
      " no of passengers= 2 \n",
      " max spped= 160 \n",
      " price= 12 \n",
      " colour= black \n",
      " ragplate= 1506 \n",
      " engine= 1.6\n",
      "truck is having the features: axle= 2 \n",
      " load capacity= 7 \n",
      " price= 3 \n",
      " colour= yellow \n",
      "ragplate= 4120 \n",
      "engine= 37\n"
     ]
    }
   ],
   "source": [
    "#vehicle\n",
    "class vehicle:\n",
    "\n",
    "    def __init__(self,pr,col,rp,eng):\n",
    "             self.price=pr\n",
    "             self.colour=col\n",
    "             self.ragplate=rp\n",
    "             self.engine=eng\n",
    "\n",
    "class car(vehicle):\n",
    "    def __init__(self,typ,n,maxsp,pr,col,rp,eng):\n",
    "        self.type=typ\n",
    "        self.passengers=n\n",
    "        self.maxspeed=maxsp\n",
    "        super().__init__(pr,col,rp,eng)\n",
    "        \n",
    "class truck(vehicle):\n",
    "    def __init__(self,axle,lc,pr,col,rp,eng):\n",
    "        self.axle=axle\n",
    "        self.loadcap=lc\n",
    "        super().__init__(pr,col,rp,eng)\n",
    "\n",
    "car1=car(\"sport\",2,160,12,\"black\",1506,1.6)\n",
    "truck1=truck(2,7,3,\"yellow\",4120,37)\n",
    "print(\"car is having the features:\",\"type=\" ,car1.type ,\"\\n\", \"no of passengers=\",car1.passengers,\"\\n\" ,\"max spped=\", car1.maxspeed,\"\\n\", \"price=\", \n",
    "      car1.price ,\"\\n\",\"colour=\", car1.colour ,\"\\n\", \"ragplate=\", car1.ragplate ,\"\\n\", \"engine=\", car1.engine)\n",
    "print(\"truck is having the features:\",\"axle=\", truck1.axle , \"\\n\",\"load capacity=\",truck1.loadcap ,\"\\n\",\"price=\",truck1.price ,\"\\n\",\n",
    "      \"colour=\", truck1.colour ,\"\\n\"\"ragplate=\", truck1.ragplate ,\"\\n\"\"engine=\", truck1.engine)\n",
    "\n",
    "        "
   ]
  },
  {
   "cell_type": "code",
   "execution_count": 16,
   "id": "20db4f9c-f12c-4767-9e3e-92d91dc2e187",
   "metadata": {},
   "outputs": [
    {
     "name": "stdout",
     "output_type": "stream",
     "text": [
      "staff is having the features: work type= accountant \n",
      " work position= incharge \n",
      " id= 156 \n",
      " name= mona \n",
      " salary= 65\n",
      "developer is having the features: module= developing  \n",
      " technology= python \n",
      " experience= 3 \n",
      "  id= 54 \n",
      "  name= guna \n",
      " salary= 56\n",
      "manager is having the features: project= construction \n",
      " cu'lient name= usha \n",
      " id= 156 \n",
      " name= mona \n",
      " salary= 65\n"
     ]
    }
   ],
   "source": [
    "#employee\n",
    "class employee:\n",
    "    def __init__(self,eid,ename,esal):\n",
    "        self.employee_id=eid\n",
    "        self.employee_name=ename\n",
    "        self.employee_salary=esal\n",
    "class staff(employee):\n",
    "    def __init__(self,wrktyp,wrkpos,eid,ename,esal):\n",
    "        self.work_type=wrktyp\n",
    "        self.work_position=wrkpos\n",
    "        super().__init__(eid,ename,esal)\n",
    "class developer(employee):\n",
    "    def __init__(self,mod,tech,exp,eid,ename,esal):\n",
    "        self.module=mod\n",
    "        self.tech=tech\n",
    "        self.experience=exp\n",
    "        super().__init__(eid,ename,esal)\n",
    "class manager(employee):\n",
    "    def __init__(self,proj,cname,eid,ename,esal):\n",
    "        self.project=proj\n",
    "        self.client_name=cname\n",
    "        super().__init__(eid,ename,esal)\n",
    "\n",
    "st=staff(\"accountant\",\"incharge\",156,\"mona\",65)\n",
    "dev=developer(\"developing \",\"python\",3,54,\"guna\",56)\n",
    "man=manager(\"construction\",\"usha\",176,\"srujana\",76)      \n",
    "\n",
    "print(\"staff is having the features:\",\"work type=\",st.work_type,\"\\n\",\"work position=\",st.work_position,\"\\n\",\"id=\",st.employee_id,\"\\n\",\n",
    "      \"name=\",st.employee_name,\"\\n\",\"salary=\",st.employee_salary)\n",
    "\n",
    "print(\"developer is having the features:\",\"module=\",dev.module,\"\\n\",\"technology=\",dev.tech,\"\\n\",\"experience=\",dev.experience,\"\\n\",\n",
    "      \" id=\",dev.employee_id,\"\\n\",\" name=\",dev.employee_name,\"\\n\",\"salary=\",dev.employee_salary)\n",
    "print(\"manager is having the features:\",\"project=\",man.project,\"\\n\",\"cu'lient name=\",man.client_name,\"\\n\",\"id=\",st.employee_id,\"\\n\",\n",
    "      \"name=\",st.employee_name,\"\\n\",\"salary=\",st.employee_salary)\n",
    "              "
   ]
  },
  {
   "cell_type": "code",
   "execution_count": 32,
   "id": "396e2801-6bbb-4979-a94e-89c77c4e70d8",
   "metadata": {},
   "outputs": [
    {
     "name": "stdin",
     "output_type": "stream",
     "text": [
      "enter the value of n: 6\n"
     ]
    },
    {
     "name": "stdout",
     "output_type": "stream",
     "text": [
      "* \n",
      "* * \n",
      "* * * \n",
      "* * * * \n",
      "* * * * * \n",
      "* * * * * * \n"
     ]
    }
   ],
   "source": [
    "#pattern printing\n",
    "n=int(input(\"enter the value of n:\"))\n",
    "for i in range(0,n):\n",
    "    for j in range(0,i+1):\n",
    "        print(\"*\",end=\" \")\n",
    "    print()   \n",
    "        "
   ]
  },
  {
   "cell_type": "code",
   "execution_count": 28,
   "id": "1cd2b009-b847-43bd-a14a-77aebb24ec79",
   "metadata": {},
   "outputs": [
    {
     "name": "stdin",
     "output_type": "stream",
     "text": [
      "enter the value of n: 6\n"
     ]
    },
    {
     "name": "stdout",
     "output_type": "stream",
     "text": [
      "* * * * * * \n",
      "* * * * * * \n",
      "* * * * * * \n",
      "* * * * * * \n",
      "* * * * * * \n",
      "* * * * * * \n"
     ]
    }
   ],
   "source": [
    "n=int(input(\"enter the value of n:\"))\n",
    "for i in range(0,n):\n",
    "    for j in range(0,n):\n",
    "        print(\"*\",end=\" \")\n",
    "    print()    "
   ]
  },
  {
   "cell_type": "code",
   "execution_count": 45,
   "id": "abbafc92-ff90-48ea-b93d-3fecb3e8230b",
   "metadata": {},
   "outputs": [
    {
     "name": "stdin",
     "output_type": "stream",
     "text": [
      "enter the value of n: 6\n"
     ]
    },
    {
     "name": "stdout",
     "output_type": "stream",
     "text": [
      "* * * * * * \n",
      "* * * * * \n",
      "* * * * \n",
      "* * * \n",
      "* * \n",
      "* \n"
     ]
    }
   ],
   "source": [
    "n=int(input(\"enter the value of n:\"))\n",
    "for i in range(0,n):\n",
    "    for j in range(n-i):\n",
    "        print(\"*\",end=\" \")\n",
    "    print()    \n",
    "    "
   ]
  },
  {
   "cell_type": "code",
   "execution_count": 84,
   "id": "4046ca86-652e-4ee4-a5a4-ce1d55cdb7a4",
   "metadata": {},
   "outputs": [
    {
     "name": "stdin",
     "output_type": "stream",
     "text": [
      "enter the value of n: 4\n"
     ]
    },
    {
     "name": "stdout",
     "output_type": "stream",
     "text": [
      "1 \n",
      "2 3 \n",
      "4 5 6 \n",
      "7 8 9 10 \n"
     ]
    }
   ],
   "source": [
    "n=int(input(\"enter the value of n:\"))\n",
    "num=1\n",
    "for i in range(0,n):\n",
    "     for j in range(0,i+1):\n",
    "         print(num,end=\" \")\n",
    "         num=num+1\n",
    "     print()      "
   ]
  },
  {
   "cell_type": "code",
   "execution_count": 90,
   "id": "37a61e04-c690-4b74-9763-454eded91d8b",
   "metadata": {},
   "outputs": [
    {
     "name": "stdin",
     "output_type": "stream",
     "text": [
      "enter the value of n: 6\n"
     ]
    },
    {
     "name": "stdout",
     "output_type": "stream",
     "text": [
      "* * * * * * \n",
      "*         * \n",
      "*         * \n",
      "*         * \n",
      "*         * \n",
      "* * * * * * \n"
     ]
    }
   ],
   "source": [
    "n=int(input(\"enter the value of n:\"))\n",
    "for i in range(n):\n",
    "    for j in range(n):\n",
    "        if i==0 or i==n-1 or j==0 or j==n-1:\n",
    "            print(\"*\",end=\" \")\n",
    "        else:\n",
    "            print(\" \",end=\" \")\n",
    "    print()       \n",
    "        "
   ]
  },
  {
   "cell_type": "code",
   "execution_count": 91,
   "id": "22e9d895-0a0d-431f-afde-a081903f1c59",
   "metadata": {},
   "outputs": [
    {
     "name": "stdin",
     "output_type": "stream",
     "text": [
      "enter the value of n: 6\n"
     ]
    },
    {
     "name": "stdout",
     "output_type": "stream",
     "text": [
      "* \n",
      "* * \n",
      "*   * \n",
      "*     * \n",
      "*       * \n",
      "* * * * * * \n"
     ]
    }
   ],
   "source": [
    "n=int(input(\"enter the value of n:\"))\n",
    "for i in range(n):\n",
    "    for j in range(i+1):\n",
    "        if i==n-1 or j==0 or j==i:\n",
    "            print(\"*\",end=\" \")\n",
    "        else:\n",
    "            print(\" \",end=\" \")\n",
    "    print()       "
   ]
  },
  {
   "cell_type": "code",
   "execution_count": null,
   "id": "4d4184c8-9457-42ba-a5ee-6ff47af499f0",
   "metadata": {},
   "outputs": [],
   "source": []
  }
 ],
 "metadata": {
  "kernelspec": {
   "display_name": "Python 3 (ipykernel)",
   "language": "python",
   "name": "python3"
  },
  "language_info": {
   "codemirror_mode": {
    "name": "ipython",
    "version": 3
   },
   "file_extension": ".py",
   "mimetype": "text/x-python",
   "name": "python",
   "nbconvert_exporter": "python",
   "pygments_lexer": "ipython3",
   "version": "3.12.3"
  }
 },
 "nbformat": 4,
 "nbformat_minor": 5
}
