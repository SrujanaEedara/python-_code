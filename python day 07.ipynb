{
 "cells": [
  {
   "cell_type": "code",
   "execution_count": 59,
   "id": "c41dd982-0a1a-4001-b74e-4ed32811c27f",
   "metadata": {},
   "outputs": [
    {
     "name": "stdin",
     "output_type": "stream",
     "text": [
      "enter the number of consecutive elements to be added: 3\n"
     ]
    },
    {
     "name": "stdout",
     "output_type": "stream",
     "text": [
      "Maximum sum of any three consecutive elements: 19\n"
     ]
    }
   ],
   "source": [
    "                                 #maximum sum of any 3 consecutive elements of this array\n",
    "L=[2,4,6,1,3,7,4,6,9,3,6,8,3,6,4,1,3,9,6,4,5,6,8,3,7,3,6,8]\n",
    "n=int(input(\"enter the number of consecutive elements to be added:\"))\n",
    "maximum = 0\n",
    "for i in range(len(L)-(n-1)):\n",
    "    sum=0\n",
    "    for j in range(0,n):\n",
    "         sum=sum+L[i+j]\n",
    "    if maximum<sum:\n",
    "            maximum=sum\n",
    "print(\"Maximum sum of any three consecutive elements:\", maximum)"
   ]
  },
  {
   "cell_type": "code",
   "execution_count": 63,
   "id": "f5c4ef14-85f1-4ef1-a386-ce3d61aea6a4",
   "metadata": {},
   "outputs": [
    {
     "name": "stdin",
     "output_type": "stream",
     "text": [
      "enter the number of consecutive elements to be added: 3\n"
     ]
    },
    {
     "name": "stdout",
     "output_type": "stream",
     "text": [
      "Maximum sum of any three consecutive elements: 19\n"
     ]
    }
   ],
   "source": [
    "                                                       #or\n",
    "L=[2,4,6,1,3,7,4,6,9,3,6,8,3,6,4,1,3,9,6,4,5,6,8,3,7,3,6,8]\n",
    "maximum = sum=0\n",
    "n=int(input(\"enter the number of consecutive elements to be added:\"))\n",
    "for i in range(0,n):\n",
    "     sum=sum+L[i]    \n",
    "for x in range(0,len(L)-n-1):\n",
    "         if maximum<sum:\n",
    "            maximum=sum\n",
    "         sum=sum+L[x+n]-L[x]\n",
    "print(\"Maximum sum of any three consecutive elements:\", maximum)\n",
    "\n",
    "\n"
   ]
  },
  {
   "cell_type": "code",
   "execution_count": null,
   "id": "976a5111-a60b-4e29-9cbc-ebe5207753ef",
   "metadata": {},
   "outputs": [],
   "source": []
  },
  {
   "cell_type": "code",
   "execution_count": null,
   "id": "5684bd7a-9a73-4b3c-b34f-990ed79b8cde",
   "metadata": {},
   "outputs": [],
   "source": []
  }
 ],
 "metadata": {
  "kernelspec": {
   "display_name": "Python 3 (ipykernel)",
   "language": "python",
   "name": "python3"
  },
  "language_info": {
   "codemirror_mode": {
    "name": "ipython",
    "version": 3
   },
   "file_extension": ".py",
   "mimetype": "text/x-python",
   "name": "python",
   "nbconvert_exporter": "python",
   "pygments_lexer": "ipython3",
   "version": "3.12.3"
  }
 },
 "nbformat": 4,
 "nbformat_minor": 5
}
