{
 "cells": [
  {
   "cell_type": "code",
   "execution_count": 10,
   "id": "3b81db81-ecfe-409f-ae9b-301b622a258b",
   "metadata": {},
   "outputs": [
    {
     "name": "stdout",
     "output_type": "stream",
     "text": [
      "hello\n",
      "hi\n"
     ]
    }
   ],
   "source": [
    "#replacing contents of file using exception handling\n",
    "import os\n",
    "try:\n",
    "     with open(\"sample file.txt\",'w') as f:\n",
    "           f.write(\"hello\")\n",
    "except FileNotFoundError:\n",
    "             print(\"file not found\")\n",
    "with open(\"sample file.txt\",'r') as f:\n",
    "           a=f.read()\n",
    "           print(a)\n",
    "           a=a.replace(\"hello\",\"hi\")\n",
    "with open(\"sample file.txt\",'w') as f:\n",
    "           f.write(a)\n",
    "           print(a)"
   ]
  },
  {
   "cell_type": "code",
   "execution_count": null,
   "id": "449f6365-66c5-44ee-863b-39f828a8c769",
   "metadata": {},
   "outputs": [],
   "source": [
    "#oops concepts\n",
    "#class classname:\n",
    "#def fynctionname():\n"
   ]
  },
  {
   "cell_type": "code",
   "execution_count": 21,
   "id": "4ef668f5-349e-4a17-a7c0-341430197fa8",
   "metadata": {},
   "outputs": [
    {
     "name": "stdout",
     "output_type": "stream",
     "text": [
      "0\n",
      "60\n"
     ]
    }
   ],
   "source": [
    "class laptop:\n",
    "    a=0  #global or class variable\n",
    "    def config(self):\n",
    "#self is universal to all the functions,else generates an error       \n",
    "        print(\"this is a HP laptop\")\n",
    "    def __init__(self,value):\n",
    "        self.b=value\n",
    "\n",
    "acer=laptop(60)\n",
    "print(acer.a)\n",
    "print(acer.b)\n"
   ]
  },
  {
   "cell_type": "code",
   "execution_count": 17,
   "id": "0c5d1b57-e362-46e0-a40f-8b7729afba50",
   "metadata": {},
   "outputs": [
    {
     "name": "stdout",
     "output_type": "stream",
     "text": [
      "configuration of laptop is:\n",
      "processor= i5\n",
      "ram= 8\n",
      "storage= 512\n",
      "configuration of laptop is:\n",
      "processor= i6\n",
      "ram= 7\n",
      "storage= 612\n",
      "configuration of laptop is:\n",
      "processor= i12\n",
      "ram= 12\n",
      "storage= 453\n"
     ]
    }
   ],
   "source": [
    "#create a class laptop class,write variables as processor,ram,storage.\n",
    "#create function to print the configuration of the laptops.\n",
    "#create 3 objects of laptop with different brand and display its configurations\n",
    "\n",
    "class laptop:\n",
    "      def __init__(self,p,r,s):\n",
    "                 self.processor=p\n",
    "                 self.ram=r\n",
    "                 self.storage=s\n",
    "      def config(self):\n",
    "               print(\"configuration of laptop is:\")\n",
    "               print(\"processor=\",self.processor)\n",
    "               print(\"ram=\",self.ram)\n",
    "               print(\"storage=\",self.storage)\n",
    "if __name__==\"__main__\":          \n",
    "       hp=laptop(\"i5\",8,512)\n",
    "       dell=laptop(\"i6\",7,612)\n",
    "       asus=laptop(\"i12\",12,453)\n",
    "       hp.config()\n",
    "       dell.config()\n",
    "       asus.config()\n",
    "\n",
    "       "
   ]
  },
  {
   "cell_type": "code",
   "execution_count": 90,
   "id": "b017b604-13a7-4b53-9f9a-1867ea04f525",
   "metadata": {},
   "outputs": [
    {
     "name": "stdout",
     "output_type": "stream",
     "text": [
      "the marks are:\n",
      "english= 86\n",
      "hindi= 92\n",
      "maths= 81\n",
      "social= 90\n",
      "physics= 87\n",
      "average= 87.2\n",
      "status= pass\n"
     ]
    }
   ],
   "source": [
    "#create a class student which can hold the marks in 5 subjects and also create a function to print the marks and calculate the avg of 5 subjects\n",
    "class student:\n",
    "    \n",
    "    def __init__(self,eng,hin,math,soci,phy):\n",
    "                    self.english=eng\n",
    "                    self.hindi=hin\n",
    "                    self.maths=math\n",
    "                    self.social=soci\n",
    "                    self.physics=phy\n",
    "   \n",
    "    def marks(self):\n",
    "        print(\"the marks are:\")\n",
    "        print(\"english=\",self.english)\n",
    "        print(\"hindi=\",self.hindi)\n",
    "        print(\"maths=\",self.maths)\n",
    "        print(\"social=\",self.social)\n",
    "        print(\"physics=\",self.physics)\n",
    "    \n",
    "        \n",
    "    def avg(self):   \n",
    "            self.avg=((self.english+self.hindi+self.maths+self.social+self.physics)/5)\n",
    "            print(\"average=\",self.avg)\n",
    "            if(self.avg<36):\n",
    "                print(\"status=\",\"fail\")\n",
    "            else:\n",
    "                print(\"status=\",\"pass\")\n",
    "if __name__==\"__main__\":\n",
    "    s=student(86,92,81,90,87)\n",
    "    s.marks()\n",
    "    s.avg()\n"
   ]
  },
  {
   "cell_type": "code",
   "execution_count": 92,
   "id": "d205a556-eaa3-473b-a603-ff24a17d6959",
   "metadata": {},
   "outputs": [
    {
     "name": "stdout",
     "output_type": "stream",
     "text": [
      "construction of  class c\n",
      "construction of class a\n",
      "constuction of class d\n",
      "construction of class b\n"
     ]
    }
   ],
   "source": [
    "class a:\n",
    "    def __init__(self):\n",
    "        print(\"construction of class a\")\n",
    "class b:        \n",
    "    def __init__(self):\n",
    "        print(\"construction of class b\")\n",
    "class c:\n",
    "    def __init__(self):\n",
    "        print(\"construction of  class c\")\n",
    "\n",
    "class d:        \n",
    "    def __init__(self):\n",
    "        print(\"constuction of class d\")\n",
    "if __name__==\"__main__\":\n",
    "    obj1=c()\n",
    "    obj2=a()\n",
    "    obj3=d()\n",
    "    obj4=b()"
   ]
  },
  {
   "cell_type": "code",
   "execution_count": 94,
   "id": "029e41a9-c067-44e9-ac11-4c3ae63714fe",
   "metadata": {},
   "outputs": [
    {
     "name": "stdout",
     "output_type": "stream",
     "text": [
      "construction of  class c\n",
      "fun of class c with 1 2\n"
     ]
    }
   ],
   "source": [
    "class c:\n",
    "    def __init__(self):\n",
    "        print(\"construction of  class c\")\n",
    "    def abc(self,a,b=5):\n",
    "        print(\"fun of class c with\",a,b)\n",
    "ob=c()\n",
    "\n",
    "ob.abc(1,2)"
   ]
  },
  {
   "cell_type": "code",
   "execution_count": 96,
   "id": "079ebcf5-73e5-4f12-b28b-f6123a0c146e",
   "metadata": {},
   "outputs": [
    {
     "name": "stdout",
     "output_type": "stream",
     "text": [
      "construction of  class c\n",
      "20 10\n"
     ]
    }
   ],
   "source": [
    "#another way\n",
    "class c:\n",
    "    def __init__(self,a=20,b=10):\n",
    "        print(\"construction of  class c\")\n",
    "        self.x=a\n",
    "        self.y=b\n",
    "        print(self.x,self.y)\n",
    "ob=c()        "
   ]
  },
  {
   "cell_type": "code",
   "execution_count": 108,
   "id": "768a1766-4012-4ea6-bc67-3de24e15750e",
   "metadata": {},
   "outputs": [
    {
     "name": "stdout",
     "output_type": "stream",
     "text": [
      "constructor of class d\n"
     ]
    }
   ],
   "source": [
    "#overloading\n",
    "class a:\n",
    "    def __init__(self):\n",
    "        print(\"constructor of class a\")\n",
    "    def show(self):\n",
    "        print(\"printing the show of a\")\n",
    "class b: \n",
    "    def __init__(self):\n",
    "        print(\"constructor of class b\")\n",
    "    def show(self):\n",
    "        print(\"printing the show of b\")\n",
    "class c(a):\n",
    "    def __init__(self):\n",
    "        print(\"constructor of class c\")\n",
    "    def show(self):\n",
    "        print(\"printing the show of c\")\n",
    "        super().show()\n",
    "class d:\n",
    "    def __init__(self):\n",
    "          print(\"constructor of class d\")\n",
    "    def show(self):\n",
    "          print(\"printing the show of d\")\n",
    "\n",
    "if __name__==\"__main__\":\n",
    "     ob1=d()\n",
    "        \n",
    "        \n",
    "        "
   ]
  },
  {
   "cell_type": "code",
   "execution_count": 7,
   "id": "4a1c4161-9e5a-46ed-a07a-5cc6aca6dafe",
   "metadata": {},
   "outputs": [
    {
     "name": "stdout",
     "output_type": "stream",
     "text": [
      "professional laptop is having: i5 8 512 5hrs\n",
      "gaming laptop is having: i5 8 512 2\n"
     ]
    }
   ],
   "source": [
    "#inheritance\n",
    "class laptop:\n",
    "    def __init__(self,p,r,s):\n",
    "        self.processor=p\n",
    "        self.ram=r\n",
    "        self.storage=s\n",
    "    \n",
    "class proflaptop(laptop):\n",
    "    def __init__(self,bat,p,r,s):\n",
    "            self.battery=bat\n",
    "            super().__init__(p,r,s)\n",
    "    \n",
    "            \n",
    "class gamlaptop(laptop):\n",
    "     def __init__(self,grap,p,r,s):\n",
    "           self.graphic=grap\n",
    "           super().__init__(p,r,s)\n",
    "\n",
    "proflap=proflaptop(\"5hrs\",\"i5\",8,512)\n",
    "gamlap=gamlaptop(2,\"i5\",8,512)\n",
    "print(\"professional laptop is having:\",\n",
    "      proflap.processor, proflap.ram,\n",
    "      proflap.storage, proflap.battery)\n",
    "print(\"gaming laptop is having:\",\n",
    "      gamlap.processor, gamlap.ram,\n",
    "      gamlap.storage, gamlap.graphic)\n",
    "\n",
    "             \n",
    "         "
   ]
  },
  {
   "cell_type": "code",
   "execution_count": null,
   "id": "c79d6c78-e962-4e46-a823-f069e4b1e9c7",
   "metadata": {},
   "outputs": [],
   "source": [
    "write a program to demonstrate the working of railway ticket booking.\n",
    "create required classes like \n",
    "general ticket\n",
    "sleeper ticket\n",
    "ac ticket\n",
    "first class ticket\n",
    "show the uses of inheritence in this and create a proper ticket booking model for indian railway\n",
    "after booking ticket you have to show the final ticket price to the \n",
    "customer.\n",
    "consider only 3 source and destination as\n",
    "A = 500kms\n",
    "B = 600kms\n",
    "C = 400kms\n",
    "booking charges:50\n",
    "distance charges:2/km\n",
    "sleeper charges:2/km\n",
    "ac charges:4/km\n",
    "first class charges:5/km\n",
    "\n",
    "\n",
    "\n",
    "\n"
   ]
  },
  {
   "cell_type": "code",
   "execution_count": 7,
   "id": "1ff3fb48-7d03-4622-90c8-9db70d29305a",
   "metadata": {},
   "outputs": [
    {
     "name": "stdout",
     "output_type": "stream",
     "text": [
      "Ticket booked Fare Price will be:  6550\n"
     ]
    }
   ],
   "source": [
    "class ticket:\n",
    "   \n",
    "    def __init__(self,D):\n",
    "        self.distance = int(D)\n",
    "        self.farePrice = None\n",
    "\n",
    "class gen(ticket):\n",
    "    def __init__(self,D):\n",
    "        super().__init__(D)\n",
    "    def print_ticket(self):\n",
    "        self.farePrice=50+(self.distance*2)\n",
    "        return self.farePrice\n",
    "        \n",
    "\n",
    "\n",
    "class slp(gen):\n",
    "    def __init__(self,D):\n",
    "        super().__init__(D)\n",
    "\n",
    "    def print_ticket(self):\n",
    "        self.farePrice=super().print_ticket()+(2*self.distance)\n",
    "        return self.farePrice\n",
    "\n",
    "class AC(slp):\n",
    "    def __init__(self,D):\n",
    "        super().__init__(D)\n",
    "    def print_ticket(self):\n",
    "        self.farePrice=super().print_ticket()+(4*self.distance)\n",
    "        return self.farePrice\n",
    "\n",
    "class FC(AC):\n",
    "    def __init__(self,D):\n",
    "        super().__init__(D)\n",
    "    def print_ticket(self):\n",
    "        self.farePrice=super().print_ticket()+(5*self.distance)\n",
    "        return self.farePrice\n",
    "\n",
    "\n",
    "jur = FC( 500)\n",
    "print(\"Ticket booked Fare Price will be: \",jur.print_ticket())"
   ]
  },
  {
   "cell_type": "code",
   "execution_count": null,
   "id": "4271e752-9dd6-440a-bc7b-0f496de0d674",
   "metadata": {},
   "outputs": [],
   "source": []
  }
 ],
 "metadata": {
  "kernelspec": {
   "display_name": "Python 3 (ipykernel)",
   "language": "python",
   "name": "python3"
  },
  "language_info": {
   "codemirror_mode": {
    "name": "ipython",
    "version": 3
   },
   "file_extension": ".py",
   "mimetype": "text/x-python",
   "name": "python",
   "nbconvert_exporter": "python",
   "pygments_lexer": "ipython3",
   "version": "3.12.3"
  }
 },
 "nbformat": 4,
 "nbformat_minor": 5
}
