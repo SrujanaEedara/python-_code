{
 "cells": [
  {
   "cell_type": "code",
   "execution_count": 1,
   "id": "a5741a30-ebd1-4976-adf9-d2984259185f",
   "metadata": {},
   "outputs": [
    {
     "name": "stdout",
     "output_type": "stream",
     "text": [
      "[1, 3, 4, 5, 6, 7, 8, 9, 12]\n"
     ]
    }
   ],
   "source": [
    "                                                 #BUBBLE SORTING\n",
    "ar=[12,3,8,7,5,9,1,6,4]\n",
    "for n in range(0,len(ar)):\n",
    "   for i in range(0,len(ar)-1):\n",
    "       if ar[i]>ar[i+1]:\n",
    "           temp=ar[i]\n",
    "           ar[i]=ar[i+1]\n",
    "           ar[i+1]=temp\n",
    "print(ar) "
   ]
  },
  {
   "cell_type": "code",
   "execution_count": 2,
   "id": "65776eaf-08eb-41e1-b445-489017a42a8d",
   "metadata": {},
   "outputs": [
    {
     "name": "stdout",
     "output_type": "stream",
     "text": [
      "[1, 3, 4, 5, 6, 7, 8, 9, 12]\n"
     ]
    }
   ],
   "source": [
    "                                              #INSERTION SORTING\n",
    "ar=[12,3,8,7,5,9,1,6,4]\n",
    "for i in range(1,len(ar)):\n",
    "   temp = ar[i]\n",
    "   j = i - 1\n",
    "   while j >= 0 and temp < ar[j]:\n",
    "            ar[j + 1] = ar[j]\n",
    "            j = j-1\n",
    "            ar[j + 1] = temp\n",
    "print(ar)          \n",
    "          \n"
   ]
  },
  {
   "cell_type": "code",
   "execution_count": 4,
   "id": "6e2f9ef5-34d7-4bf5-bbc5-874b96495d23",
   "metadata": {},
   "outputs": [
    {
     "name": "stdout",
     "output_type": "stream",
     "text": [
      "[9, 13, 21, 23, 24, 32, 35, 43, 45, 46, 47, 48, 49, 54, 57, 59, 65, 66, 67, 68, 73, 78, 86, 87, 89, 92, 95, 96, 97]\n"
     ]
    },
    {
     "name": "stdin",
     "output_type": "stream",
     "text": [
      "enter the element to be searched: 13\n"
     ]
    },
    {
     "name": "stdout",
     "output_type": "stream",
     "text": [
      "index of element is: 1\n",
      "low= 0 mid= 14 high= 29\n",
      "low= 0 mid= 6 high= 13\n",
      "low= 0 mid= 2 high= 5\n",
      "low= 0 mid= 0 high= 1\n",
      "element not found\n"
     ]
    }
   ],
   "source": [
    "                                                    #BINARY SEARCH\n",
    "\n",
    "L=[23,45,67,87,65,43,54,35,21,9,89,78,97,68,95,57,48,86,73,92,13,66,46,49,24,47,96,32,59]\n",
    "L.sort()\n",
    "print(L)\n",
    "low=0\n",
    "high=len(L)\n",
    "target=int(input(\"enter the element to be searched:\"))\n",
    "try:\n",
    "       print(\"index of element is:\",L.index(target))\n",
    "except:\n",
    "       print(\"item not found!!\")\n",
    "flag=0\n",
    "while low<high:\n",
    "     mid=int(low+(high-low)/2) \n",
    "     print(\"low=\",low,\"mid=\",mid,\"high=\",high)\n",
    "     if target<L[mid]:\n",
    "           high=mid-1\n",
    "     elif target>L[mid]:\n",
    "           low=mid+1\n",
    "     else:\n",
    "           flag=1\n",
    "           break;\n",
    "if flag==1:\n",
    "    print(\"element found at\",mid)\n",
    "else:\n",
    "    print(\"element not found\")\n",
    "    \n",
    "    "
   ]
  },
  {
   "cell_type": "code",
   "execution_count": 5,
   "id": "c0242d86-97d6-444d-9f52-44828890359d",
   "metadata": {},
   "outputs": [
    {
     "name": "stdin",
     "output_type": "stream",
     "text": [
      "enter your string: ({)}\n"
     ]
    },
    {
     "name": "stdout",
     "output_type": "stream",
     "text": [
      "it is a valid string\n"
     ]
    }
   ],
   "source": [
    "#VALID STRING OR NOT\n",
    "str=input(\"enter your string:\")\n",
    "x=y=z=0\n",
    "for c in str:\n",
    "    match(c):\n",
    "        case '(':x+=1\n",
    "        case ')':x-=1    \n",
    "        case '[':y+=1\n",
    "        case ']':y-=1\n",
    "        case '{':z+=1\n",
    "        case '}':z-=1 \n",
    "        case _:continue\n",
    "if x+y+z==0:\n",
    "       print(\"it is a valid string\")\n",
    "else:\n",
    "       print(\"it is an invalid string\")"
   ]
  },
  {
   "cell_type": "code",
   "execution_count": 6,
   "id": "dc37db64-64b6-459d-9aae-d1a2c65b06a7",
   "metadata": {},
   "outputs": [
    {
     "name": "stdout",
     "output_type": "stream",
     "text": [
      "element inserted into stack\n",
      "[10]\n",
      "element inserted into stack\n",
      "[10, 20]\n",
      "element inserted into stack\n",
      "[10, 20, 40]\n",
      "element removed from stack\n",
      "[10, 20]\n",
      "element removed from stack\n",
      "[10]\n"
     ]
    }
   ],
   "source": [
    "                                                                 #STACK OPERATIONS\n",
    "stack=[]\n",
    "def insert(e):\n",
    "    stack.append(e)\n",
    "    print(\"element inserted into stack\")\n",
    "    print(stack)\n",
    "    \n",
    "def delete():\n",
    "     print(\"element removed from stack\")\n",
    "     stack.pop()\n",
    "     print(stack)\n",
    "insert(10)\n",
    "insert(20)  \n",
    "insert(40)\n",
    "delete()\n",
    "delete()"
   ]
  },
  {
   "cell_type": "code",
   "execution_count": 2,
   "id": "0e812e59-3526-4033-b1d9-a66c351eee00",
   "metadata": {},
   "outputs": [
    {
     "name": "stdout",
     "output_type": "stream",
     "text": [
      "element inserted into queue\n",
      "[10]\n",
      "element inserted into queue\n",
      "[10, 20]\n",
      "element inserted into queue\n",
      "[10, 20, 30]\n",
      "element removed from queue\n",
      "[20, 30]\n"
     ]
    }
   ],
   "source": [
    "                                                     #QUEUE OPERATIONS\n",
    "queue=[]\n",
    "def insert(e):\n",
    "    queue.append(e)\n",
    "    print(\"element inserted into queue\")\n",
    "    print(queue)\n",
    "    \n",
    "def delete():\n",
    "     print(\"element removed from queue\")\n",
    "     queue.remove(10)\n",
    "     print(queue)\n",
    "insert(10)\n",
    "insert(20)\n",
    "insert(30)\n",
    "delete()\n",
    "\n",
    "    \n",
    "    "
   ]
  },
  {
   "cell_type": "code",
   "execution_count": null,
   "id": "e990f3d5-5bc9-40b0-beb9-4840ccb7e916",
   "metadata": {},
   "outputs": [],
   "source": []
  }
 ],
 "metadata": {
  "kernelspec": {
   "display_name": "Python 3 (ipykernel)",
   "language": "python",
   "name": "python3"
  },
  "language_info": {
   "codemirror_mode": {
    "name": "ipython",
    "version": 3
   },
   "file_extension": ".py",
   "mimetype": "text/x-python",
   "name": "python",
   "nbconvert_exporter": "python",
   "pygments_lexer": "ipython3",
   "version": "3.12.3"
  }
 },
 "nbformat": 4,
 "nbformat_minor": 5
}
